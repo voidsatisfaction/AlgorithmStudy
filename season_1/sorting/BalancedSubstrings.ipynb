{
 "cells": [
  {
   "cell_type": "markdown",
   "metadata": {},
   "source": [
    "Problem Statement for BalancedSubstrings"
   ]
  },
  {
   "cell_type": "markdown",
   "metadata": {},
   "source": [
    "Problem Statement\n",
    "    \t\n",
    "This problem deals with binary strings: strings in which each character is either '0' or '1'. The characters are interpreted as zeros and ones.\n",
    "\n",
    "Assume that we have a binary string of length N. Imagine the string as a horizontal lever of length N-1. The weight of the lever is negligible. On the lever, the points with integer coordinates are numbered from 0 (one end of the lever) to N-1 (the other end). Our string represents the distribution of weights on this lever. For each i, if character i of our string is '0', the corresponding point is empty, and if the character is '1', there is a unit weight at that point. Suppose that we place a fulcrum under the point number i. We say that element i of the string is a balance point if the lever is balanced on the fulcrum: the moments of force on either side cancel each other out. A string is called a balanced string if it has at least one balance point. Note that the balance point must be one of the marked points (see examples below).\n",
    "\n",
    "A formal definition follows. For each valid index i we can compute the torque at i as follows:\n",
    "\n",
    "For each element to the left of i, take its value, multiply it by its distance from i, and add all those results together to obtain the value A.\n",
    "For each element to the right of i, take its value, multiply it by its distance from i, and add all those results together to obtain the value B.\n",
    "The torque at i is computed as (A - B).\n",
    "We say that index i is a balance point if the torque at i is exactly zero. (Note that the value of the element at index i isn't used in the definition and therefore it can be arbitrary.)\n",
    "For example, the string \"10100001\" is a balanced string. Its balance point is the (0-based) index i=3. If we put the fulcrum under the lever at this position, we see \"101\" to the left and \"0001\" to the right. On the left side we get A = 1*3 + 0*2 + 1*1 = 4, and on the right side we get B = 0*1 + 0*2 + 0*3 + 1*4 = 4, hence A-B is exactly zero.\n",
    "\n",
    "The string \"0001\" is also a balanced string, as its last character is a balance point. The string \"11\" is not a balanced string, as neither of its two characters is a balance point.\n",
    "\n",
    "You are given a String s that is a binary string. Return the number of nonempty substrings of s that are balanced.\n",
    "\n",
    "Substrings that consist of the same characters but occur elsewhere in s are considered different substrings. If they are balanced, each of them should be counted separately. For example, the string \"00000\" contains four distinct occurrences of the substring \"00\".\n",
    "\n",
    " \n",
    "Definition\n",
    "    \t\n",
    "Class:\tBalancedSubstrings\n",
    "Method:\tcountSubstrings\n",
    "Parameters:\tString\n",
    "Returns:\tint\n",
    "Method signature:\tint countSubstrings(String s)\n",
    "(be sure your method is public)\n",
    "    \n",
    " \n",
    "Constraints\n",
    "-\ts will have between 1 and 2,500 characters, inclusive.\n",
    "-\tEach character in s will be '0' or '1'.\n",
    " \n",
    "Examples\n",
    "0)\t\n",
    "    \t\n",
    "\"011\"\n",
    "Returns: 4\n",
    "The balanced substrings in this case are {\"0\", \"1\", \"1\", \"01\"}\n",
    "1)\t\n",
    "    \t\n",
    "\"10111\"\n",
    "Returns: 10\n",
    "The balanced substrings are {\"1\", \"0\", \"1\", \"1\", \"1\", \"10\", \"01\", \"101\", \"111\", \"0111\"}\n",
    "2)\t\n",
    "    \t\n",
    "\"00000\"\n",
    "Returns: 15\n",
    "All substrings in this case are balanced.\n",
    "3)\t\n",
    "    \t\n",
    "\"0000001000000\"\n",
    "Returns: 91\n",
    "4)\t\n",
    "    \t\n",
    "\"100110001001\"\n",
    "Returns: 49"
   ]
  },
  {
   "cell_type": "markdown",
   "metadata": {},
   "source": [
    "This problem statement is the exclusive and proprietary property of TopCoder, Inc. Any unauthorized use or reproduction of this information without the prior written consent of TopCoder, Inc. is strictly prohibited. (c)2010, TopCoder, Inc. All rights reserved. <br>\n",
    "link : https://community.topcoder.com/stat?c=problem_statement&pm=13885"
   ]
  },
  {
   "cell_type": "code",
   "execution_count": 1,
   "metadata": {
    "collapsed": false
   },
   "outputs": [
    {
     "data": {
      "text/plain": []
     },
     "execution_count": 1,
     "metadata": {},
     "output_type": "execute_result"
    }
   ],
   "source": [
    "#include <iostream>"
   ]
  },
  {
   "cell_type": "code",
   "execution_count": 2,
   "metadata": {
    "collapsed": false
   },
   "outputs": [
    {
     "data": {
      "text/plain": []
     },
     "execution_count": 2,
     "metadata": {},
     "output_type": "execute_result"
    }
   ],
   "source": [
    "//class를 지정\n",
    "class BalancedSubstrings{\n",
    "    public:\n",
    "        //퍼블릭 메소드 만듬 선언과동시에 구현\n",
    "        int countSubstrings(std::string s ){\n",
    "            int n = (int)s.size();\n",
    "            int ans = 0;\n",
    "            //convolution 畳み込み\n",
    "            /*\n",
    "            탐색 순서는 011를 예로 들면\n",
    "            0->01->011\n",
    "            ->1->11\n",
    "            ->1\n",
    "            이런 식임\n",
    "            */\n",
    "            for (int i=0; i<n; i++){\n",
    "                int a = 0;\n",
    "                int b = 0;\n",
    "                for (int j=i; j<n; j++){\n",
    "                    if (s[j] == '1'){\n",
    "                        a += j;\n",
    "                        b ++;\n",
    "                    }\n",
    "                    //무게가 없거나 무게중심이 정수인 위치에 있으면 balanced string\n",
    "                    if (b==0 || a%b==0){\n",
    "                        ans++;  \n",
    "                    }\n",
    "                }\n",
    "            }\n",
    "            return ans;\n",
    "        }\n",
    "};"
   ]
  },
  {
   "cell_type": "code",
   "execution_count": 3,
   "metadata": {
    "collapsed": false
   },
   "outputs": [
    {
     "data": {
      "text/plain": [
       "(BalancedSubstrings &) @0x102ca5000\n"
      ]
     },
     "execution_count": 3,
     "metadata": {},
     "output_type": "execute_result"
    }
   ],
   "source": [
    "BalancedSubstrings solver = BalancedSubstrings();"
   ]
  },
  {
   "cell_type": "code",
   "execution_count": 4,
   "metadata": {
    "collapsed": false
   },
   "outputs": [
    {
     "name": "stdout",
     "output_type": "stream",
     "text": [
      "4\n"
     ]
    },
    {
     "data": {
      "text/plain": [
       "(std::__1::basic_ostream &) @0x7fff7529a2f8\n"
      ]
     },
     "execution_count": 4,
     "metadata": {},
     "output_type": "execute_result"
    }
   ],
   "source": [
    "std::cout << solver.countSubstrings(\"011\") << std::endl;"
   ]
  },
  {
   "cell_type": "code",
   "execution_count": 5,
   "metadata": {
    "collapsed": false
   },
   "outputs": [
    {
     "name": "stdout",
     "output_type": "stream",
     "text": [
      "10\n"
     ]
    },
    {
     "data": {
      "text/plain": [
       "(std::__1::basic_ostream &) @0x7fff7529a2f8\n"
      ]
     },
     "execution_count": 5,
     "metadata": {},
     "output_type": "execute_result"
    }
   ],
   "source": [
    "std::cout << solver.countSubstrings(\"10111\") << std::endl;"
   ]
  },
  {
   "cell_type": "code",
   "execution_count": 6,
   "metadata": {
    "collapsed": false
   },
   "outputs": [
    {
     "name": "stdout",
     "output_type": "stream",
     "text": [
      "15\n"
     ]
    },
    {
     "data": {
      "text/plain": [
       "(std::__1::basic_ostream &) @0x7fff7529a2f8\n"
      ]
     },
     "execution_count": 6,
     "metadata": {},
     "output_type": "execute_result"
    }
   ],
   "source": [
    "std::cout << solver.countSubstrings(\"00000\") << std::endl;"
   ]
  },
  {
   "cell_type": "code",
   "execution_count": 7,
   "metadata": {
    "collapsed": false
   },
   "outputs": [
    {
     "name": "stdout",
     "output_type": "stream",
     "text": [
      "91\n"
     ]
    },
    {
     "data": {
      "text/plain": [
       "(std::__1::basic_ostream &) @0x7fff7529a2f8\n"
      ]
     },
     "execution_count": 7,
     "metadata": {},
     "output_type": "execute_result"
    }
   ],
   "source": [
    "std::cout << solver.countSubstrings(\"0000001000000\") << std::endl;"
   ]
  },
  {
   "cell_type": "code",
   "execution_count": 8,
   "metadata": {
    "collapsed": false
   },
   "outputs": [
    {
     "name": "stdout",
     "output_type": "stream",
     "text": [
      "49\n"
     ]
    },
    {
     "data": {
      "text/plain": [
       "(std::__1::basic_ostream &) @0x7fff7529a2f8\n"
      ]
     },
     "execution_count": 8,
     "metadata": {},
     "output_type": "execute_result"
    }
   ],
   "source": [
    "std::cout << solver.countSubstrings(\"100110001001\") << std::endl;"
   ]
  }
 ],
 "metadata": {
  "kernelspec": {
   "display_name": "C++",
   "language": "",
   "name": "cling"
  },
  "language_info": {
   "codemirror_mode": "text/x-c++src",
   "file_extension": ".c++",
   "mimetype": " text/x-c++src",
   "name": "c++"
  }
 },
 "nbformat": 4,
 "nbformat_minor": 0
}
