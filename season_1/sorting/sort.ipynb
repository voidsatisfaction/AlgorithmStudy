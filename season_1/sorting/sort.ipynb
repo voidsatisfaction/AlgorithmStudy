{
 "cells": [
  {
   "cell_type": "markdown",
   "metadata": {},
   "source": [
    "Wiki : https://ko.wikipedia.org/wiki/%EB%B6%84%EB%A5%98:%EC%A0%95%EB%A0%AC_%EC%95%8C%EA%B3%A0%EB%A6%AC%EC%A6%98 <br>\n",
    "기본 알고리즘 정리 : http://hsp1116.tistory.com/33"
   ]
  },
  {
   "cell_type": "code",
   "execution_count": 1,
   "metadata": {
    "collapsed": false
   },
   "outputs": [
    {
     "data": {
      "text/plain": []
     },
     "execution_count": 1,
     "metadata": {},
     "output_type": "execute_result"
    }
   ],
   "source": [
    "#include<iostream>\n",
    "#include <vector>\n",
    "#include <cstdlib>\n",
    "#include <ctime>"
   ]
  },
  {
   "cell_type": "code",
   "execution_count": 2,
   "metadata": {
    "collapsed": false
   },
   "outputs": [
    {
     "data": {
      "text/plain": []
     },
     "execution_count": 2,
     "metadata": {},
     "output_type": "execute_result"
    }
   ],
   "source": [
    "//temp 임시 변수가 필요없는 swap함수 with pointer\n",
    "//std::swap in <algorithm>를 사용해도 좋음\n",
    "/*\n",
    "    [0,1,2]이런 배열이 있다고 칠때\n",
    "    0의 주소를 0x00라고합시다.\n",
    "    int array이기 때문에 각각의 요소의 메모리는 4byte를 차지합니다.\n",
    "    2의 메모리 주소값은? \n",
    "    0x08입니다.\n",
    "    자.. 이때 0하고 2를 바꾸어 보겠다 이건데.. 이하와 같은 생각을 해봅니다.\n",
    "    예를들어\n",
    "    *a = *b - *a;\n",
    "    a은 0의 주소입니다. 그러므로 a의 value는 2-0 = 2 이 들어간 상태.\n",
    "    *b = *b - *a;\n",
    "    b는 2의 주소입니다. 그러므로 b의 value로써는 2-2 = 0\n",
    "    *a = *a + *b;\n",
    "    a에는 같은 논리로 2가 들어가게 되므로 이렇게 스왑가 가능!\n",
    "    -> SWAP\n",
    "*/\n",
    "void swap(int* a, int* b){\n",
    "    *a = *b - *a;\n",
    "    *b = *b - *a;\n",
    "    *a = *a + *b;\n",
    "}"
   ]
  },
  {
   "cell_type": "code",
   "execution_count": 3,
   "metadata": {
    "collapsed": false
   },
   "outputs": [
    {
     "data": {
      "text/plain": []
     },
     "execution_count": 3,
     "metadata": {},
     "output_type": "execute_result"
    }
   ],
   "source": [
    "//Bubble Sort\n",
    "//vector<int>& array : send vector by reference\n",
    "//vector<int>& array : send vector by value\n",
    "void bubblesort(std::vector<int> array){\n",
    "    const clock_t begin_time = clock();\n",
    "    //N-1번원소부터 0번원소까지 정렬\n",
    "    for (int i = array.size();i > 0;i--){\n",
    "    //반복해서 원소를 교환하여 i번에 해당하는 원소를 위치시킴\n",
    "    for (int j = 1;j < i;j++){\n",
    "      //뒤의원소가 앞의 원소보다 작으면(오름차 순)\n",
    "      if (array[j] < array[j - 1]){\n",
    "        //둘을 바꾼다\n",
    "        swap(&array[j], &array[j - 1]);\n",
    "      }\n",
    "    }\n",
    "    }\n",
    "    std::cout << \"Time duration : \" << float( clock () - begin_time ) /  CLOCKS_PER_SEC << std::endl;\n",
    "    \n",
    "    //소트 실행 후의 Vector 결과 출력\n",
    "    /*\n",
    "    std::cout << \"Result : \";\n",
    "    for (int i = 0;i < array.size();i++){\n",
    "        std::cout << array[i] << \" \";\n",
    "    }\n",
    "    std::cout << std::endl;\n",
    "    */\n",
    "}"
   ]
  },
  {
   "cell_type": "code",
   "execution_count": 4,
   "metadata": {
    "collapsed": false
   },
   "outputs": [
    {
     "data": {
      "text/plain": []
     },
     "execution_count": 4,
     "metadata": {},
     "output_type": "execute_result"
    }
   ],
   "source": [
    "//최소선택정렬(오름차 순)\n",
    "void minselectionsort(std::vector<int> array){\n",
    "    const clock_t begin_time = clock();\n",
    "    int i,j,min;\n",
    "    for(i = 0;i < array.size();i++){\n",
    "        min = i;\n",
    "        for(j = i+1;j < array.size();j++){\n",
    "          if(array[j] < array[min]){\n",
    "            min = j;\n",
    "          }\n",
    "        }\n",
    "        if(min != i){\n",
    "          swap(&array[i], &array[min]);\n",
    "        }\n",
    "    }\n",
    "    std::cout << \"Time duration : \" << float( clock () - begin_time ) /  CLOCKS_PER_SEC << std::endl;\n",
    "    \n",
    "    //소트 실행 후의 Vector 결과 출력\n",
    "    /*\n",
    "    std::cout << \"Result : \";\n",
    "    for (int i = 0;i < array.size();i++){\n",
    "        std::cout << array[i] << \" \";\n",
    "    }\n",
    "    std::cout << std::endl;\n",
    "    */\n",
    "}"
   ]
  },
  {
   "cell_type": "code",
   "execution_count": 5,
   "metadata": {
    "collapsed": false
   },
   "outputs": [
    {
     "data": {
      "text/plain": []
     },
     "execution_count": 5,
     "metadata": {},
     "output_type": "execute_result"
    }
   ],
   "source": [
    "//최대선택정렬(내림차 순)\n",
    "void maxselectionsort(std::vector<int> array){\n",
    "    const clock_t begin_time = clock();\n",
    "    int i,j,max;\n",
    "    for(i = 0;i < array.size();i++){\n",
    "    max = i;\n",
    "    for(j = i+1;j < array.size();j++){\n",
    "      if(array[j] > array[max]){\n",
    "        max = j;\n",
    "      }\n",
    "    }\n",
    "    if(max != i){\n",
    "      swap(&array[i], &array[max]);\n",
    "    }\n",
    "    }\n",
    "    std::cout << \"Time duration : \" << float( clock () - begin_time ) /  CLOCKS_PER_SEC << std::endl;\n",
    "    \n",
    "    //소트 실행 후의 Vector 결과 출력\n",
    "    /*\n",
    "    std::cout << \"Result : \";\n",
    "    for (int i = 0;i < array.size();i++){\n",
    "        std::cout << array[i] << \" \";\n",
    "    }\n",
    "    std::cout << std::endl;\n",
    "    */\n",
    "}"
   ]
  },
  {
   "cell_type": "code",
   "execution_count": 6,
   "metadata": {
    "collapsed": false
   },
   "outputs": [
    {
     "data": {
      "text/plain": []
     },
     "execution_count": 6,
     "metadata": {},
     "output_type": "execute_result"
    }
   ],
   "source": [
    "//삽입정렬(올림차 순)\n",
    "void insertionsort(std::vector<int> array){\n",
    "    const clock_t begin_time = clock();\n",
    "    std::vector<int>::iterator first; \n",
    "    first = array.begin();\n",
    "    for(int i = 1;i < array.size();i++){\n",
    "        int key = array[i];\n",
    "        int j = i - 1;\n",
    "        while(j >= 0&& key < array[j]){\n",
    "            j--;\n",
    "        }\n",
    "        if(j != i-1){\n",
    "            array.erase(first+i);\n",
    "            array.insert(first+j+1,key);\n",
    "        }     \n",
    "    };\n",
    "    std::cout << \"Time duration : \" << float( clock () - begin_time ) /  CLOCKS_PER_SEC << std::endl;\n",
    "    \n",
    "    //소트 실행 후의 Vector 결과 출력\n",
    "    /*\n",
    "    std::cout << \"Result : \";\n",
    "    for (int i = 0;i < array.size();i++){\n",
    "        std::cout << array[i] << \" \";\n",
    "    };\n",
    "    std::cout << std::endl;\n",
    "    */\n",
    "}"
   ]
  },
  {
   "cell_type": "code",
   "execution_count": 7,
   "metadata": {
    "collapsed": false
   },
   "outputs": [
    {
     "data": {
      "text/plain": []
     },
     "execution_count": 7,
     "metadata": {},
     "output_type": "execute_result"
    }
   ],
   "source": [
    "//합병(Merge)\n",
    "void merge(std::vector<int>& array, std::vector<int>& a1, std::vector<int>& a2) {\n",
    "    std::vector<int>::iterator itr1 = a1.begin();\n",
    "    std::vector<int>::iterator itr2 = a2.begin();\n",
    "\n",
    "    while(itr1 != a1.end() || itr2 != a2.end()) {\n",
    "        if(itr1 != a1.end() && itr2 != a2.end()) {\n",
    "            if(*itr1 < *itr2) {\n",
    "                array.push_back(*itr1++);\n",
    "            } else {\n",
    "                array.push_back(*itr2++);\n",
    "            }\n",
    "        } else {\n",
    "            if(itr1 != a1.end()) {\n",
    "                array.push_back(*itr1++);\n",
    "            } else {\n",
    "                array.push_back(*itr2++);\n",
    "            }\n",
    "        }\n",
    "    }\n",
    "}"
   ]
  },
  {
   "cell_type": "code",
   "execution_count": 8,
   "metadata": {
    "collapsed": false
   },
   "outputs": [
    {
     "data": {
      "text/plain": []
     },
     "execution_count": 8,
     "metadata": {},
     "output_type": "execute_result"
    }
   ],
   "source": [
    "//합병정렬(Merge Sort)\n",
    "void mergesort_recursive(std::vector<int>& array) {\n",
    "    if(1 < array.size()) {\n",
    "        int f = array.size() / 2;\n",
    "        std::vector<int> array1(array.begin(), array.begin() + f);\n",
    "        mergesort_recursive(array1);\n",
    "        std::vector<int> array2(array.begin()+f, array.end());\n",
    "        mergesort_recursive(array2);\n",
    "        merge(array, array1, array2);\n",
    "    }\n",
    "}"
   ]
  },
  {
   "cell_type": "code",
   "execution_count": 9,
   "metadata": {
    "collapsed": false
   },
   "outputs": [
    {
     "data": {
      "text/plain": []
     },
     "execution_count": 9,
     "metadata": {},
     "output_type": "execute_result"
    }
   ],
   "source": [
    "// void mergesort(std::vector<int> &array){\n",
    "//     int size = array.size();\n",
    "//     if(size > 1){     \n",
    "//         std::vector<int> L(array.begin(), array.begin() + size/2);\n",
    "//         std::vector<int> R(array.begin() + size/2, array.end());\n",
    "//         mergesort(L);\n",
    "//         mergesort(R);\n",
    "        \n",
    "//         for(int i = 0, j = 0, k = 0; i < size; i++){\n",
    "//             if(k == R.size()){\n",
    "//                 array[i] = L[j++];\n",
    "//             }else if(j == L.size()){\n",
    "//                 array[i] = R[k++];\n",
    "//             }else if(L[j] < R[k]){\n",
    "//                 array[i] = L[j++];\n",
    "//             }else{\n",
    "//                 array[i] = R[k++];\n",
    "//             }\n",
    "//         }\n",
    "//     }\n",
    "// }"
   ]
  },
  {
   "cell_type": "code",
   "execution_count": 10,
   "metadata": {
    "collapsed": false
   },
   "outputs": [
    {
     "data": {
      "text/plain": []
     },
     "execution_count": 10,
     "metadata": {},
     "output_type": "execute_result"
    }
   ],
   "source": [
    "void mergesortStart(std::vector<int> array){\n",
    "    const clock_t begin_time = clock();\n",
    "    mergesort_recursive(array);\n",
    "    std::cout << \"Time duration : \" << float( clock () - begin_time ) /  CLOCKS_PER_SEC << std::endl;\n",
    "    //소트 실행 후의 Vector 결과 출력\n",
    "    /*\n",
    "    std::cout << \"Result : \";\n",
    "    for (int i = 0;i < array.size();i++){\n",
    "        std::cout << array[i] << \" \";\n",
    "    };\n",
    "    std::cout << std::endl;\n",
    "    */\n",
    "}"
   ]
  },
  {
   "cell_type": "code",
   "execution_count": 11,
   "metadata": {
    "collapsed": false
   },
   "outputs": [
    {
     "data": {
      "text/plain": []
     },
     "execution_count": 11,
     "metadata": {},
     "output_type": "execute_result"
    }
   ],
   "source": [
    "//퀵 정렬(Quick Sort)\n",
    "void quicksort_recursive(std::vector<int>& v, int left, int right) {\n",
    "    int i = left, j = right;\n",
    "    int pivot = v[(left+right)/2];\n",
    "    // partition\n",
    "    while(i <= j) {\n",
    "        while(v[i] < pivot)\n",
    "            i++;\n",
    "        while(v[j] > pivot)\n",
    "            j--;\n",
    "        if(i <= j) {\n",
    "            swap(&v[i++], &v[j--]);\n",
    "        }\n",
    "    }\n",
    " // recursive call\n",
    "    if(left < j)\n",
    "        quicksort_recursive(v, left, j);\n",
    "    if(i < right)\n",
    "        quicksort_recursive(v, i, right);\n",
    "}"
   ]
  },
  {
   "cell_type": "code",
   "execution_count": 12,
   "metadata": {
    "collapsed": false
   },
   "outputs": [
    {
     "data": {
      "text/plain": []
     },
     "execution_count": 12,
     "metadata": {},
     "output_type": "execute_result"
    }
   ],
   "source": [
    "void quicksortStart(std::vector<int> array){\n",
    "    const clock_t begin_time = clock();\n",
    "    quicksort_recursive(array, 0, array.size()-1);\n",
    "    std::cout << \"Time duration : \" << float( clock () - begin_time ) /  CLOCKS_PER_SEC << std::endl;\n",
    "    //소트 실행 후의 Vector 결과 출력\n",
    "    /*\n",
    "    std::cout << \"Result : \";\n",
    "    for (int i = 0;i < array.size();i++){\n",
    "        std::cout << array[i] << \" \";\n",
    "    };\n",
    "    std::cout << std::endl;\n",
    "    */\n",
    "}"
   ]
  },
  {
   "cell_type": "code",
   "execution_count": 13,
   "metadata": {
    "collapsed": false
   },
   "outputs": [
    {
     "data": {
      "text/plain": []
     },
     "execution_count": 13,
     "metadata": {},
     "output_type": "execute_result"
    }
   ],
   "source": [
    "//type으로 소팅 종류 지정\n",
    "int type;\n",
    "//size로 백터크기지정\n",
    "int size = 4000;\n",
    "// int형식의 Vector 선언\n",
    "std::vector<int> array;  \n",
    "srand(time(NULL));\n",
    "//랜덤백터생성\n",
    "for(int i = 0;i < size;i++){\n",
    "    array.push_back(rand() % 999 + 1);  // 1~999사이의 랜덤 정수를 Vector에 추가\n",
    "}\n",
    "//소트 실행 전 Vector 출력\n",
    "/*\n",
    "std::cout << \"Original : \";\n",
    "for (int i = 0;i < array.size();i++){\n",
    "    std::cout << array[i] << \" \";\n",
    "}\n",
    "std::cout << std::endl;\n",
    "*/"
   ]
  },
  {
   "cell_type": "code",
   "execution_count": 14,
   "metadata": {
    "collapsed": false
   },
   "outputs": [
    {
     "name": "stdout",
     "output_type": "stream",
     "text": [
      "Time duration : 3.38405\n"
     ]
    },
    {
     "data": {
      "text/plain": [
       "(void) @0x7fff5bffca88\n"
      ]
     },
     "execution_count": 14,
     "metadata": {},
     "output_type": "execute_result"
    }
   ],
   "source": [
    "bubblesort(array);"
   ]
  },
  {
   "cell_type": "code",
   "execution_count": 15,
   "metadata": {
    "collapsed": false
   },
   "outputs": [
    {
     "name": "stdout",
     "output_type": "stream",
     "text": [
      "Time duration : 0.258303\n"
     ]
    },
    {
     "data": {
      "text/plain": [
       "(void) @0x7fff5bffca88\n"
      ]
     },
     "execution_count": 15,
     "metadata": {},
     "output_type": "execute_result"
    }
   ],
   "source": [
    "minselectionsort(array);"
   ]
  },
  {
   "cell_type": "code",
   "execution_count": 16,
   "metadata": {
    "collapsed": false
   },
   "outputs": [
    {
     "name": "stdout",
     "output_type": "stream",
     "text": [
      "Time duration : 0.047743\n"
     ]
    },
    {
     "data": {
      "text/plain": [
       "(void) @0x7fff5bffca88\n"
      ]
     },
     "execution_count": 16,
     "metadata": {},
     "output_type": "execute_result"
    }
   ],
   "source": [
    "insertionsort(array);"
   ]
  },
  {
   "cell_type": "code",
   "execution_count": 17,
   "metadata": {
    "collapsed": false
   },
   "outputs": [
    {
     "name": "stdout",
     "output_type": "stream",
     "text": [
      "Time duration : 0.442338\n"
     ]
    },
    {
     "data": {
      "text/plain": [
       "(void) @0x7fff5bffca88\n"
      ]
     },
     "execution_count": 17,
     "metadata": {},
     "output_type": "execute_result"
    }
   ],
   "source": [
    "mergesortStart(array);"
   ]
  },
  {
   "cell_type": "code",
   "execution_count": 18,
   "metadata": {
    "collapsed": false
   },
   "outputs": [
    {
     "name": "stdout",
     "output_type": "stream",
     "text": [
      "Time duration : 0.013905\n"
     ]
    },
    {
     "data": {
      "text/plain": [
       "(void) @0x7fff5bffca88\n"
      ]
     },
     "execution_count": 18,
     "metadata": {},
     "output_type": "execute_result"
    }
   ],
   "source": [
    "quicksortStart(array);"
   ]
  },
  {
   "cell_type": "code",
   "execution_count": 19,
   "metadata": {
    "collapsed": false
   },
   "outputs": [
    {
     "data": {
      "text/plain": []
     },
     "execution_count": 19,
     "metadata": {},
     "output_type": "execute_result"
    }
   ],
   "source": [
    "/*\n",
    "//소팅 종류 지정\n",
    "type = 3;\n",
    "//소트 선택\n",
    "switch (type){\n",
    "case 1:\n",
    "  bubblesort(array);\n",
    "  break;\n",
    "case 2:\n",
    "  minselectionsort(array);\n",
    "  break;\n",
    "case 3:\n",
    "  maxselectionsort(array);\n",
    "  break;\n",
    "case 4:\n",
    "  insertionsort(array);\n",
    "  break;\n",
    "case 5:\n",
    "  mergesortStart(array);\n",
    "  break;\n",
    "case 6:\n",
    "  quicksortStart(array);\n",
    "  break;\n",
    "};\n",
    "*/"
   ]
  },
  {
   "cell_type": "code",
   "execution_count": null,
   "metadata": {
    "collapsed": true
   },
   "outputs": [],
   "source": []
  }
 ],
 "metadata": {
  "kernelspec": {
   "display_name": "C++",
   "language": "",
   "name": "cling"
  },
  "language_info": {
   "codemirror_mode": "text/x-c++src",
   "file_extension": ".c++",
   "mimetype": " text/x-c++src",
   "name": "c++"
  }
 },
 "nbformat": 4,
 "nbformat_minor": 0
}
